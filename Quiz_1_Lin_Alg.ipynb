{
 "cells": [
  {
   "cell_type": "markdown",
   "metadata": {},
   "source": [
    "## Linear Algebra Quiz #1\n",
    "We strongly suggest working with numpy :)"
   ]
  },
  {
   "cell_type": "code",
   "execution_count": 1,
   "metadata": {},
   "outputs": [],
   "source": [
    "#Do your imports here\n",
    "import numpy as np"
   ]
  },
  {
   "cell_type": "markdown",
   "metadata": {},
   "source": [
    "![title](./img/1_1.png)"
   ]
  },
  {
   "cell_type": "code",
   "execution_count": 15,
   "metadata": {},
   "outputs": [],
   "source": [
    "a=2\n",
    "b=3\n",
    "c=4\n",
    "\n",
    "x = [a, b, c]\n",
    "# type a function that given a 3_dimensional vector it is able to calculate its magnitude\n",
    "\n",
    "def magnitude_3(a,b,c):\n",
    "    magn = np.linalg.norm( [a, b, c] )\n",
    "    return magn\n",
    "\n",
    "# type a function that given a n_dimensional vector it is able to calculate its magnitude\n",
    "def magnitude(vec):\n",
    "    return np.linalg.norm(vec)"
   ]
  },
  {
   "cell_type": "code",
   "execution_count": 12,
   "metadata": {},
   "outputs": [
    {
     "output_type": "stream",
     "name": "stdout",
     "text": [
      "5.385164807134504\n5.385164807134504\n"
     ]
    }
   ],
   "source": [
    "print(magnitude_3(a, b, c))\n",
    "print(magnitude(x))"
   ]
  },
  {
   "cell_type": "code",
   "execution_count": 13,
   "metadata": {},
   "outputs": [
    {
     "output_type": "execute_result",
     "data": {
      "text/plain": [
       "10.954451150103322"
      ]
     },
     "metadata": {},
     "execution_count": 13
    }
   ],
   "source": [
    "magnitude([2,4,1,5,6,3,2,4,2,2,1])"
   ]
  },
  {
   "cell_type": "code",
   "execution_count": 17,
   "metadata": {},
   "outputs": [],
   "source": [
    "def magnitude_complete_vec(vector):\n",
    "    return magnitude(vector)\n",
    "\n",
    "assert magnitude_complete_vec([1]) == 1.0\n",
    "assert magnitude_complete_vec([1,2]) >= 2.236\n",
    "assert magnitude_complete_vec([1,2,3]) >= 3.741\n",
    "assert magnitude_complete_vec([1,2,3,4,5]) >= 5.477\n",
    "assert magnitude_complete_vec([1,2,3,4,5]) >= 7.416"
   ]
  },
  {
   "cell_type": "code",
   "execution_count": 36,
   "metadata": {},
   "outputs": [
    {
     "output_type": "execute_result",
     "data": {
      "text/plain": [
       "3.1622776601683795"
      ]
     },
     "metadata": {},
     "execution_count": 36
    }
   ],
   "source": [
    "def magnitude_complete(*inputs):\n",
    "    # answer = np.sqrt(np.sum(np.square(inputs)))\n",
    "    answer = np.linalg.norm(inputs)\n",
    "    return squares_list\n",
    "\n",
    "magnitude_complete(1,3)\n",
    "\n",
    "# assert magnitude_complete(1) == 1.0\n",
    "# assert magnitude_complete(1,2) >= 2.236\n",
    "# assert magnitude_complete(1,2,3) >= 3.741\n",
    "# assert magnitude_complete(1,2,3,4,5) >= 5.477\n",
    "# assert magnitude_complete(1,2,3,4,5) >= 7.416 \n"
   ]
  },
  {
   "cell_type": "markdown",
   "metadata": {},
   "source": [
    "![title](./img/1_2.png)"
   ]
  },
  {
   "cell_type": "code",
   "execution_count": 55,
   "metadata": {},
   "outputs": [
    {
     "output_type": "execute_result",
     "data": {
      "text/plain": [
       "1.0"
      ]
     },
     "metadata": {},
     "execution_count": 55
    }
   ],
   "source": [
    "x = [5,1]\n",
    "y = [-4, -1]\n",
    "\n",
    "def magnitude_vectors(vec1, vec2):\n",
    "    assert len(vec1) == len(vec2)\n",
    "    return np.linalg.norm(np.array(vec1) + np.array(vec2))\n",
    "    \n",
    "    # print(_sum)\n",
    "    # return np.linalg.norm(np.sum(vec1, vec2))\n",
    "    # return the calculated magnitude of a sum of them (vec1 + vec2)\n",
    "    # np.linalg.norm(vec)\n",
    "magnitude_vectors(x, y)"
   ]
  },
  {
   "cell_type": "markdown",
   "metadata": {},
   "source": [
    "![title](./img/1_3.png)"
   ]
  },
  {
   "cell_type": "code",
   "execution_count": 71,
   "metadata": {},
   "outputs": [
    {
     "output_type": "stream",
     "name": "stdout",
     "text": [
      "The magnitude of [1, 3, 2] + [2, 3, 4] is 9.0 and the direction is 1.1071\n"
     ]
    }
   ],
   "source": [
    "def direction_vectors(vec1, vec2):\n",
    "    assert len(vec1) == len(vec2)\n",
    "    sum_vec = np.array(vec1)+np.array(vec2)\n",
    "    return np.arctan(sum_vec[1]/sum_vec[0])\n",
    "    # checks that size of both vecs is equal   \n",
    "    # returns the direction (the angle) of a vector that is a sum of vec1 and vec2\n",
    "    \n",
    "# or if you want to do it all in one batch:\n",
    "def magdir_vectors(vec1, vec2):\n",
    "    assert len(vec1) == len(vec2)\n",
    "    mag = round(magnitude_vectors(vec1, vec2), 4)\n",
    "    dir_ = round(direction_vectors(vec1, vec2), 4)\n",
    "\n",
    "    print(f\"The magnitude of {vec1} + {vec2} is {mag} and the direction is {dir_}\")\n",
    "\n",
    "magdir_vectors([1,3,2],[2,3,4])"
   ]
  },
  {
   "cell_type": "markdown",
   "metadata": {},
   "source": [
    "![title](./img/1_4.png)\n",
    "- What is the magnitude of αx⃗? \n",
    "- If α>0, will the direction of the resulting vector change?\n",
    "- If α<0, will the direction of the resulting vector change?\n",
    "- If −1<α<1, will ∥αx⃗∥  increase, decrease or stay the same?"
   ]
  },
  {
   "cell_type": "code",
   "execution_count": 83,
   "metadata": {},
   "outputs": [
    {
     "output_type": "stream",
     "name": "stdout",
     "text": [
      "Magnitude is 1.4142. The vector was [1, 1] and it didn't change at all!\nMagnitude is 2.2361. The vector was [2, 1] and vector did change to [1.3143, 1.809].\n"
     ]
    }
   ],
   "source": [
    "def alpha_magnitude(alpha, vec):\n",
    "    # norm is basicaly magnitude\n",
    "    vec_norm = round(np.linalg.norm(vec), 4)\n",
    "\n",
    "    beta = np.arctan(vec[1]/vec[0])\n",
    "\n",
    "    if alpha == beta:\n",
    "        text = \"it didn't change at all!\"\n",
    "    else:\n",
    "        new_vec = [\n",
    "            round(np.sin(alpha) * vec_norm, 4),\n",
    "            round(np.cos(alpha) * vec_norm, 4)\n",
    "        ]\n",
    "        text = f\"vector did change to {new_vec}.\"\n",
    "\n",
    "\n",
    "    print(f\"Magnitude is {vec_norm}. The vector was {vec} and {text}\")\n",
    "    # we have to return the magnitude of a vector vec\n",
    "    # but with an agle alph\n",
    "\n",
    "    # 1) take vector vec\n",
    "    # 2) calculate it's leght/norm/magnitude\n",
    "    # 3) create a new vector vec2 with the norm u've found and a given alpha\n",
    "    # and the question here is - did the norm/legth/magnitude CHANGE\n",
    "    \n",
    "    # prints the resulting magnitude, if the direction has changed and what has happened to the vector\n",
    "\n",
    "alpha_magnitude(np.pi/4, [1,1])\n",
    "alpha_magnitude(np.pi/5, [2,1])\n",
    "\n"
   ]
  }
 ],
 "metadata": {
  "kernelspec": {
   "name": "python395jvsc74a57bd05f25a9e58d7059a5bce325f0d5c81f23f5b8f1e91d7d17950277ab26020b5adf",
   "display_name": "Python 3.9.5 64-bit ('webscrapping': conda)"
  },
  "language_info": {
   "codemirror_mode": {
    "name": "ipython",
    "version": 3
   },
   "file_extension": ".py",
   "mimetype": "text/x-python",
   "name": "python",
   "nbconvert_exporter": "python",
   "pygments_lexer": "ipython3",
   "version": "3.9.5"
  }
 },
 "nbformat": 4,
 "nbformat_minor": 2
}